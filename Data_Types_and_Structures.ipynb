{
  "nbformat": 4,
  "nbformat_minor": 0,
  "metadata": {
    "colab": {
      "provenance": []
    },
    "kernelspec": {
      "name": "python3",
      "display_name": "Python 3"
    },
    "language_info": {
      "name": "python"
    }
  },
  "cells": [
    {
      "cell_type": "markdown",
      "source": [
        "Data Types and Structures Questions\n"
      ],
      "metadata": {
        "id": "OaIC9EtrqupB"
      }
    },
    {
      "cell_type": "markdown",
      "source": [
        "1. What are data structures, and why are they important ?\n",
        "\n"
      ],
      "metadata": {
        "id": "RNc1dG-_q1wY"
      }
    },
    {
      "cell_type": "markdown",
      "source": [
        "    Data structures are fundamental concepts in computer science that deal with\n",
        "    how data is organized and stored in a computer's memory. They provide a way\n",
        "    to efficiently manage and manipulate data, enabling effective  \n",
        "    implementation of algorithms.\n",
        "\n",
        "\n",
        "    Why are data structures important?\n",
        "\n",
        "    Data structures are crucial for several key reasons:\n",
        "\n",
        "    Efficiency: The choice of data structure significantly impacts the\n",
        "    efficiency of algorithms that operate on that data. A well-chosen data\n",
        "    structure can lead to faster execution times and reduced memory usage for\n",
        "    tasks like searching, sorting, inserting, and deleting data.\n",
        "\n",
        "    Organization and Management: They provide a structured way to organize  \n",
        "    large amounts of data, making it easier to manage and understand. This is\n",
        "    essential for developing complex software applications.\n",
        "\n",
        "    Algorithm Design: Data structures are closely intertwined with algorithms.  The way data is structured often dictates the most efficient algorithms for\n",
        "    processing it. Understanding data structures is crucial for designing\n",
        "    effective algorithms.\n",
        "\n",
        "    Code Reusability: Common data structures (like lists, trees, and graphs)  \n",
        "    are often implemented as reusable components in programming languages and\n",
        "    libraries. This saves development time and promotes code consistency.\n",
        "\n",
        "    Problem Solving: Choosing the appropriate data structure for a specific\n",
        "    problem can simplify the solution and make the code more elegant and easier to maintain.\n",
        "\n",
        "    Scalability: When dealing with large datasets, efficient data structures  \n",
        "    are essential for ensuring that applications remain responsive and perform\n",
        "    well as the data grows.\n",
        "\n",
        "    Foundation for Advanced Concepts: A solid understanding of data structures\n",
        "    is a foundation for learning more advanced computer science topics, such as\n",
        "    databases, operating systems, artificial intelligence, and more.\n",
        "\n",
        "\n"
      ],
      "metadata": {
        "id": "KDohb0GKrC7G"
      }
    },
    {
      "cell_type": "markdown",
      "source": [
        "2. Explain the difference between mutable and immutable data types with examples ?"
      ],
      "metadata": {
        "id": "hFgRoG4grruJ"
      }
    },
    {
      "cell_type": "markdown",
      "source": [
        "    Key Differences *Summarized*:\n",
        "\n",
        "    Feature :\t     Mutable Data Types\t               Immutable Data Types\n",
        "    Modification:\tCan be modified in place\t     Cannot be modified in place\n",
        "    New Object: Modification doesn't create a new object     Modification creates  \n",
        "    a new object\n",
        "    Memory ID:\tRemains the same after modification\tChanges after \"modification\"\n",
        "    Examples:\tLists, Dictionaries, Sets, Bytearrays\tIntegers, Floats, Strings, Tuples, Booleans, Bytes"
      ],
      "metadata": {
        "id": "fhRek1Oyr32h"
      }
    },
    {
      "cell_type": "markdown",
      "source": [
        "3. What are the main differences between lists and tuples in Python ?"
      ],
      "metadata": {
        "id": "t6eb-_YgseHr"
      }
    },
    {
      "cell_type": "markdown",
      "source": [
        "    Here's a table summarizing the key differences:\n",
        "\n",
        "    Feature:\t    List ([])\t                         Tuple (())\n",
        "    Mutability:\tMutable (can be changed)\t       Immutable (cannot be changed)\n",
        "    Syntax:\t   Square brackets []\t              Parentheses () (comma for single element)\n",
        "    Use Cases:\tDynamic collections, modifiable data\tFixed collections, representing records, dictionary keys\n",
        "    Performance:\tSlightly slower for iteration\t     Generally slightly faster for iteration\n",
        "    Memory:\t       Generally uses more memory\t        Generally uses less memory\n",
        "    Hashability:\t   Not hashable\t                Hashable (if elements are immutable)\n",
        "    Methods:\tMore methods for modification\t      Fewer methods (mostly for access)\n",
        "\n"
      ],
      "metadata": {
        "id": "IGCpT72fsnWA"
      }
    },
    {
      "cell_type": "markdown",
      "source": [
        "4. Describe how dictionaries store data ?\n"
      ],
      "metadata": {
        "id": "IyuXGe7LtchE"
      }
    },
    {
      "cell_type": "markdown",
      "source": [
        "    Dictionaries in Python (and similar hash map or associative array  \n",
        "    structures in other languages) store data as key-value pairs. This means\n",
        "    that each piece of data is associated with a unique identifier called a  \n",
        "    key. You use this key to access the corresponding value.\n",
        "\n",
        "    Here's a breakdown of how dictionaries store data:\n",
        "\n",
        "    1. Key-Value Pairs:\n",
        "\n",
        "    The fundamental unit of storage in a dictionary is a key-value pair.\n",
        "    Key: The key must be unique within the dictionary and must be of an\n",
        "    immutable data type (like strings, numbers, or tuples containing only\n",
        "    immutable elements). This immutability is crucial for the underlying\n",
        "    mechanism that allows for efficient lookups.\n",
        "    Value: The value can be of any data type in Python (mutable or immutable).\n",
        "    It's the actual data you want to store and retrieve.\n",
        "     2. Hashing:\n",
        "\n",
        "    Dictionaries rely heavily on a process called hashing to efficiently store\n",
        "    and retrieve data.\n",
        "    When you add a key-value pair to a dictionary, the key is passed through a\n",
        "    hash function.\n",
        "    The hash function generates a unique (or near-unique) integer called a hash\n",
        "    value (or hash code) for that key.\n",
        "    This hash value serves as an index or address to determine where the\n",
        "    corresponding value will be stored in the dictionary's underlying data\n",
        "    structure.\n",
        "    3. Underlying Data Structure (Hash Table):\n",
        "\n",
        "    Internally, dictionaries are typically implemented using a data structure   called a hash table.\n",
        "    A hash table is essentially an array (or a similar data structure) where\n",
        "    each index (or \"bucket\") can potentially hold a key-value pair.\n",
        "    The hash value of a key is used to determine the initial bucket where the\n",
        "    key-value pair should be stored.\n",
        "    4. Collision Handling:\n",
        "\n",
        "    It's possible for different keys to produce the same hash value (this is\n",
        "    called a collision).\n",
        "    Dictionaries employ various collision resolution techniques to handle these situations. Common methods include:\n",
        "    Separate Chaining: Each bucket in the hash table stores a linked list of\n",
        "    key-value pairs that have the same hash value.\n",
        "    Open Addressing: When a collision occurs, the dictionary probes for the  \n",
        "    next available slot in the hash table to store the new key-value pair.\n",
        "\n",
        "    5. Lookup Process:\n",
        "\n",
        "    When you want to retrieve a value using its key (e.g., my_dict['key']), the\n",
        "    following happens:\n",
        "    The key is passed through the same hash function used during storage.\n",
        "    The resulting hash value is used to locate the bucket where the key-value\n",
        "    pair should be.\n",
        "    The dictionary then searches within that bucket (or the probed locations in\n",
        "    case of open addressing) to find the exact key.\n",
        "    Once the key is found, the associated value is returned."
      ],
      "metadata": {
        "id": "Ex2y7vFNt0E8"
      }
    },
    {
      "cell_type": "markdown",
      "source": [
        "5. Why might you use a set instead of a list in Python ?\n"
      ],
      "metadata": {
        "id": "NWQ9D7iRud9Z"
      }
    },
    {
      "cell_type": "markdown",
      "source": [
        "    In summary, choose a set over a list when:\n",
        "\n",
        "    You need to ensure that all elements in the collection are unique.\n",
        "    You need to perform frequent membership tests.\n",
        "    You need to perform set-based operations (union, intersection, difference,\n",
        "    etc.).\n",
        "    The order of elements is not important.\n",
        "    You want an efficient way to remove duplicates.\n",
        "    If you need to maintain the order of elements or if duplicate elements are\n",
        "    meaningful to your application, then a list would be the more appropriate   choice."
      ],
      "metadata": {
        "id": "mS5j9ioGul1o"
      }
    },
    {
      "cell_type": "markdown",
      "source": [
        "6. What is a string in Python, and how is it different from a list ?\n"
      ],
      "metadata": {
        "id": "KlXEDqrtu8Ig"
      }
    },
    {
      "cell_type": "markdown",
      "source": [
        "    In Python, a string is a sequence of characters. It is used to represent\n",
        "    textual data. Strings are immutable, meaning that once a string is created,\n",
        "    its individual characters cannot be changed directly. Any operation that\n",
        "    appears to modify a string actually creates a new string object.\n",
        "\n",
        "    Here's how you define strings in Python:\n",
        "    my_string = \"Hello\"\n",
        "    another_string = 'World'\n",
        "    multi_line_string = \"\"\"This is a\n",
        "    string that spans\n",
        "    multiple lines.\"\"\"\n",
        "\n",
        "    While both strings and lists are sequence types in Python, they have fundamental differences:\n",
        "\n",
        "    Feature:\t           String (str)\t                                  List (list)\n",
        "    Element Type:\t      Sequence of characters (Unicode)\tSequence of items of any data type (integers, floats, strings, other lists, etc.)\n",
        "    Mutability:    Immutable: Cannot be changed after creation. Operations create new strings.\tMutable: Elements can be added, removed, or modified after creation.\n",
        "    Purpose:\t      Primarily for representing textual data.\t   For storing ordered collections of arbitrary items.\n",
        "    Syntax:\tEnclosed in single quotes ('...'), double quotes (\"...\"), or triple quotes (\"\"\"...\"\"\" or '''...''').\t    Enclosed in square brackets [...].\n",
        "    Operations:\tHas specific string methods like upper(), lower(), split(), join(), find(), etc., designed for text manipulation.\tHas list-specific methods like append(), insert(), remove(), sort(), reverse(), etc., designed for managing collections.\n",
        "    Element Modification:\tNot allowed directly. To change a string, you typically create a new string using operations like concatenation or replacement.\t     Individual elements can be directly accessed and modified using their index.\n",
        "    Use Cases:\tStoring and manipulating text, representing names, sentences, documents, etc.         \tStoring collections of related items, managing ordered data that might change, implementing stacks, queues, etc.\n",
        "\n",
        "\n"
      ],
      "metadata": {
        "id": "x_TXU8U7vBAC"
      }
    },
    {
      "cell_type": "markdown",
      "source": [
        "7. How do tuples ensure data integrity in Python ?\n",
        "\n"
      ],
      "metadata": {
        "id": "g7w8maGLwqKA"
      }
    },
    {
      "cell_type": "markdown",
      "source": [
        "    In summary, tuples ensure data integrity in Python by:\n",
        "\n",
        "    Being immutable: Preventing direct modification of their elements.\n",
        "    Providing a read-only view of data: Reducing the risk of accidental changes.\n",
        "    Ensuring consistency: Guaranteeing that the data they hold remains in a fixed state.\n",
        "    Facilitating safe sharing: Allowing data to be passed around without fear of unintended modifications.\n",
        "    Enabling use in hashable contexts: Allowing them to serve as reliable keys in dictionaries and elements in sets.\n",
        "    By choosing tuples when you need to represent data that should not change,\n",
        "    you can write more robust, reliable, and maintainable Python code."
      ],
      "metadata": {
        "id": "-myUZLr_ww2D"
      }
    },
    {
      "cell_type": "markdown",
      "source": [
        "8. What is a hash table, and how does it relate to dictionaries in Python ?\n"
      ],
      "metadata": {
        "id": "hKuuQ72DxLwi"
      }
    },
    {
      "cell_type": "markdown",
      "source": [
        "    A hash table, also known as a hash map, is a data structure that implements\n",
        "    an associative array abstract data type, which can map keys to values. It\n",
        "    uses a hash function to compute an index (or \"hash code\") into an array of\n",
        "    buckets or slots, from which the desired value can be found.\n",
        "\n",
        "    In simpler terms, a hash table is like a collection of labeled boxes (the buckets).\n",
        "\n",
        "    To store a piece of data (the value), you first use a special process (the\n",
        "    hash function) on its identifier (the key) to determine which box it should go into. To retrieve the data later, you perform the same process on the    key to find the correct box.\n",
        "    Here's how the concepts of a hash table map to Python dictionaries:\n",
        "\n",
        "    Keys in a dictionary are the keys in the hash table. Python requires\n",
        "    dictionary keys to be immutable and hashable (meaning they have a  \n",
        "    consistent hash value throughout their lifetime). This allows them to be\n",
        "    used effectively with the hash function.\n",
        "    Values in a dictionary are the values associated with the keys in the hash table.\n",
        "    When you add a key-value pair to a dictionary:\n",
        "    Python calculates the hash value of the key using its internal hash function (hash()).\n",
        "    This hash value is used to determine the index (bucket) in the underlying\n",
        "    hash table where the key-value pair should be stored.\n",
        "    When you access a value using its key (e.g., my_dict['key']):\n",
        "    Python calculates the hash value of the provided key.\n",
        "    It uses this hash value to quickly locate the bucket where the key-value\n",
        "    pair is likely to be stored.\n",
        "    Python then checks if the key in that bucket (or the linked list/probed     locations in case of a collision) matches the provided key and returns the\n",
        "    corresponding value.\n",
        "    Collision Handling is managed internally by Python's dictionary implementation.\n",
        "\n",
        "    While the exact details are implementation-specific and can evolve, Python\n",
        "    uses a sophisticated open addressing scheme to handle collisions\n",
        "    efficiently.\n"
      ],
      "metadata": {
        "id": "TJkoJYZpxSWs"
      }
    },
    {
      "cell_type": "markdown",
      "source": [
        "9. Can lists contain different data types in Python?\n"
      ],
      "metadata": {
        "id": "Umi_Wsqtx78f"
      }
    },
    {
      "cell_type": "markdown",
      "source": [
        "    Yes, lists in Python can absolutely contain different data types.\n",
        "\n",
        "    Python is a dynamically typed language, which means that you don't need to\n",
        "    explicitly declare the data type of a variable when you create it. This\n",
        "    flexibility extends to the elements within a list.\n",
        "\n",
        "    A single Python list can hold a mixture of:\n",
        "\n",
        "    Integers (int)\n",
        "    Floating-point numbers (float)\n",
        "    Strings (str)\n",
        "    Booleans (bool)\n",
        "    Other lists (nested lists)\n",
        "    Tuples\n",
        "    Dictionaries\n",
        "    Sets\n",
        "    Even custom objects\n"
      ],
      "metadata": {
        "id": "A9L_eLmhyHM0"
      }
    },
    {
      "cell_type": "markdown",
      "source": [
        "10. Explain why strings are immutable in Python ?\n"
      ],
      "metadata": {
        "id": "ow1XnuwNyRgE"
      }
    },
    {
      "cell_type": "markdown",
      "source": [
        "    In summary, the immutability of strings in Python is a design choice that prioritizes:\n",
        "\n",
        "    Efficiency through memory sharing and caching.\n",
        "    Simplicity and predictability in how strings behave.\n",
        "    The ability to use strings as reliable keys in dictionaries and elements in\n",
        "    sets due to their hashability.\n",
        "    Prevention of unintended side effects and accidental data corruption.\n",
        "    While it might sometimes seem less convenient (e.g., needing to create a  \n",
        "    new string for every \"modification\"), the benefits of immutability                                                           \n",
        "    contribute significantly to the overall robustness and performance of Python."
      ],
      "metadata": {
        "id": "pH8PWTTOybbf"
      }
    },
    {
      "cell_type": "markdown",
      "source": [
        "11. What advantages do dictionaries offer over lists for certain tasks ?"
      ],
      "metadata": {
        "id": "WUjmNHqGyoo8"
      }
    },
    {
      "cell_type": "markdown",
      "source": [
        "    Dictionaries in Python offer significant advantages over lists for specific\n",
        "    tasks, primarily due to their key-based access\n",
        "\n",
        "    and underlying hash table implementation. Here are the main advantages:\n",
        "    1. Faster Lookups (Retrieval of Values):\n",
        "    2. More Intuitive and Meaningful Access:\n",
        "    3. Efficient Insertion and Deletion Based on Keys:\n",
        "    4. Representing Key-Value Relationships:\n",
        "    5. Checking for the Existence of a Key:\n",
        "\n",
        "    Here's a table summarizing the advantages:\n",
        "\n",
        "    Feature\t      Dictionary (dict)\t                  List (list)\n",
        "    Lookup Speed\tFast (average O(1) by key)\tSlower (O(n) by value or index)\n",
        "    Access Method\tBy unique, meaningful keys\tBy numerical index\n",
        "    Insertion/Deletion (by key)\tFast (average O(1))\tPotentially slow (O(n) at arbitrary positions)\n",
        "    Data Representation\tIdeal for key-value relationships\tPrimarily for ordered sequences\n",
        "    Key Existence Check\tFast (average O(1))\t                Slower (O(n))//"
      ],
      "metadata": {
        "id": "hWOQUYIo4fGC"
      }
    },
    {
      "cell_type": "markdown",
      "source": [
        "12. Describe a scenario where using a tuple would be preferable over a list ?\n"
      ],
      "metadata": {
        "id": "FkbLscWI5STU"
      }
    },
    {
      "cell_type": "markdown",
      "source": [
        "    A scenario where using a tuple would be preferable over a list is when you\n",
        "    need to represent a fixed record of related information that should not be\n",
        "    accidentally modified.\n",
        "\n",
        "    Scenario: Representing Coordinates\n",
        "\n",
        "    Imagine you are developing a program that deals with geometric shapes. You\n",
        "    need to represent the coordinates of points in a 2D plane. Each point has  \n",
        "    an x-coordinate and a y-coordinate.\n",
        "\n",
        "    In summary, in the scenario of representing fixed coordinates, a tuple (x,\n",
        "    y) is a more robust and semantically appropriate choice than a list [x, y]\n",
        "    due to its immutability, which ensures data integrity and allows it to be\n",
        "    used in contexts requiring hashable objects (like dictionary keys).\n",
        "\n",
        "\n"
      ],
      "metadata": {
        "id": "_oij45-w5mMq"
      }
    },
    {
      "cell_type": "markdown",
      "source": [
        "13. How do sets handle duplicate values in Python ?\n"
      ],
      "metadata": {
        "id": "oANHSumU53IH"
      }
    },
    {
      "cell_type": "markdown",
      "source": [
        "    Sets in Python are specifically designed to store only unique elements.  \n",
        "    When you attempt to add a value to a set that is already present, the set\n",
        "    will not add it again. It effectively ignores the duplicate value, and the\n",
        "    set remains unchanged.\n",
        "\n",
        "    In summary, sets in Python handle duplicate values by:\n",
        "\n",
        "    Silently ignoring attempts to add elements that are already present.\n",
        "    Leveraging the efficiency of hash tables for fast membership testing during\n",
        "    the addition process.\n",
        "    Automatically removing duplicates when a set is created from an iterable.\n",
        "    This inherent property of sets makes them very useful for tasks such as:\n",
        "\n",
        "    Removing duplicates from a list or other iterable.\n",
        "    Checking for the presence of an element in a collection efficiently.\n",
        "    Performing set theory operations (union, intersection, difference) on\n",
        "    collections of unique items.\n",
        "\n"
      ],
      "metadata": {
        "id": "XZnpaJH06D2u"
      }
    },
    {
      "cell_type": "markdown",
      "source": [
        "14. How does the “in” keyword work differently for lists and dictionaries ?"
      ],
      "metadata": {
        "id": "YxMX0Myv6P_-"
      }
    },
    {
      "cell_type": "markdown",
      "source": [
        "    The in keyword in Python is used to check for membership within a sequence\n",
        "    or collection. However, the way it operates and its efficiency differ\n",
        "    significantly between lists and dictionaries due to their underlying data structures.\n",
        "\n",
        "    For Lists:\n",
        "\n",
        "    Operation: When you use in with a list, Python iterates through the  \n",
        "    elements of the list sequentially, from the beginning until it finds a  \n",
        "    match or reaches the end of the list.\n",
        "    Efficiency: The time complexity of item in my_list is O(n) in the worst\n",
        "    case, where 'n' is the number of elements in the list. This is because, in\n",
        "    the worst scenario (the item is at the end or not present), Python has to\n",
        "    examine every element. In the best case (the item is at the beginning),  \n",
        "    it's O(1).\n",
        "    What it checks: For lists, in checks if the specified value is present as\n",
        "    one of the elements in the list.\n",
        "    Example (List):\n",
        "\n",
        "    Python\n",
        "\n",
        "    my_list = ['apple', 'banana', 'cherry', 'date']\n",
        "\n",
        "    print('banana' in my_list)  # Output: True (Python iterates and finds 'banana')\n",
        "    print('grape' in my_list)   # Output: False (Python iterates through the whole list)\n",
        "    For Dictionaries:\n",
        "\n",
        "    Operation: When you use in with a dictionary, by default, it checks if the  specified value is present as one of the keys in the dictionary. It does    not iterate through the values directly.\n",
        "    Efficiency: Checking for the existence of a key in a dictionary using key  \n",
        "    in my_dict has an average-case time complexity of O(1) (constant time)\n",
        "    because dictionaries are implemented using hash tables. Python can directly\n",
        "    look up the key using its hash value. The worst-case complexity is O(n) if\n",
        "    there are many hash collisions, but this is relatively rare in practice  \n",
        "    with a good hash function.\n",
        "    Checking Values: To check if a specific value exists in a dictionary, you\n",
        "    need to use the .values() method and then the in keyword: value in my_dict. values(). This operation has a time complexity of O(n) because it involves\n",
        "    iterating through all the values in the dictionary.\n",
        "    Example (Dictionary):\n",
        "\n",
        "    Python\n",
        "\n",
        "    my_dict = {'a': 1, 'b': 2, 'c': 3, 'd': 4}\n",
        "\n",
        "    print('b' in my_dict)       # Output: True (checks if 'b' is a key)\n",
        "    print(2 in my_dict)       # Output: False (checks if 2 is a key, which it isn't)\n",
        "    print(2 in my_dict.values()) # Output: True (checks if 2 is one of the values)\n",
        "    print('e' in my_dict)       # Output: False (checks if 'e' is a key)"
      ],
      "metadata": {
        "id": "2ut8AJzv6VXm"
      }
    },
    {
      "cell_type": "markdown",
      "source": [
        "15. Can you modify the elements of a tuple? Explain why or why not ?\n"
      ],
      "metadata": {
        "id": "wMEmOzJW7Dep"
      }
    },
    {
      "cell_type": "markdown",
      "source": [
        "    No, you cannot directly modify the elements of a tuple in Python after it has been created.\n",
        "\n",
        "    Why? Because tuples are immutable data types.\n",
        "\n",
        "    Immutability is a fundamental property of tuples. Once a tuple is defined,\n",
        "    its contents (the elements it holds) and their order are fixed and cannot  \n",
        "    be changed. Any operation that appears to modify a tuple actually creates a\n",
        "    brand new tuple object with the desired changes. The original tuple remains\n",
        "    untouched in memory.\n",
        "\n",
        "    In summary, while you can't change the elements of an existing tuple, you\n",
        "    can create new tuples based on existing ones through operations like\n",
        "    concatenation or slicing. The immutability of tuples is a deliberate design\n",
        "    choice that provides benefits related to data integrity, their use in other\n",
        "    data structures, and overall code reliability."
      ],
      "metadata": {
        "id": "ZIEnQ17Z7NFx"
      }
    },
    {
      "cell_type": "markdown",
      "source": [
        "16.What is a nested dictionary, and give an example of its use case ?"
      ],
      "metadata": {
        "id": "x-_Z-lUQ7Y84"
      }
    },
    {
      "cell_type": "markdown",
      "source": [
        "    A nested dictionary in Python is a dictionary where the values associated\n",
        "    with some or all of the keys are themselves dictionaries. Essentially, it's\n",
        "    a dictionary within a dictionary, and this nesting can go to multiple levels.\n",
        "\n",
        "    Think of it like a tree structure where each node (except the leaves) is a\n",
        "    dictionary containing other dictionaries or simple values."
      ],
      "metadata": {
        "id": "Nt9h5Js17nV2"
      }
    },
    {
      "cell_type": "code",
      "source": [
        "school_data = {\n",
        "    'ClassA': {\n",
        "        'Alice': {\n",
        "            'age': 10,\n",
        "            'grades': {'math': 95, 'science': 88, 'english': 92}\n",
        "        },\n",
        "        'Bob': {\n",
        "            'age': 11,\n",
        "            'grades': {'math': 80, 'science': 90, 'english': 78}\n",
        "        }\n",
        "    },\n",
        "    'ClassB': {\n",
        "        'Charlie': {\n",
        "            'age': 12,\n",
        "            'grades': {'math': 76, 'science': 85, 'english': 90}\n",
        "        },\n",
        "        'David': {\n",
        "            'age': 11,\n",
        "            'grades': {'math': 92, 'science': 82, 'english': 88}\n",
        "        }\n",
        "    }\n",
        "}\n",
        "\n",
        "# Accessing Alice's age:\n",
        "print(school_data['ClassA']['Alice']['age'])  # Output: 10\n",
        "\n",
        "# Accessing Bob's math grade:\n",
        "print(school_data['ClassA']['Bob']['grades']['math']) # Output: 80\n",
        "\n",
        "# Iterating through students in ClassB:\n",
        "print(\"\\nStudents in ClassB:\")\n",
        "for student, details in school_data['ClassB'].items():\n",
        "    print(f\"- {student}: Age {details['age']}, Math Grade {details['grades']['math']}\")"
      ],
      "metadata": {
        "colab": {
          "base_uri": "https://localhost:8080/"
        },
        "id": "U2ql1rNLvOQy",
        "outputId": "17b4459d-09f8-4cf5-e4a0-8b749bb32f64"
      },
      "execution_count": 2,
      "outputs": [
        {
          "output_type": "stream",
          "name": "stdout",
          "text": [
            "10\n",
            "80\n",
            "\n",
            "Students in ClassB:\n",
            "- Charlie: Age 12, Math Grade 76\n",
            "- David: Age 11, Math Grade 92\n"
          ]
        }
      ]
    },
    {
      "cell_type": "markdown",
      "source": [
        "    Advantages of using nested dictionaries in such scenarios:\n",
        "\n",
        "    Organization: They provide a clear and structured way to organize complex\n",
        "    data with multiple levels of relationships.\n",
        "    Accessibility: You can easily access specific pieces of information by  \n",
        "    using the appropriate sequence of keys.\n",
        "    Readability: When structured logically, nested dictionaries can make the\n",
        "    data representation more understandable.\n",
        "    Nested dictionaries are powerful for representing data that has inherent\n",
        "    hierarchies, such as configuration files, JSON-like structures, or any  situation where information is naturally grouped within other information.\n",
        "\n",
        "\n"
      ],
      "metadata": {
        "id": "VO17NUHw7zzG"
      }
    },
    {
      "cell_type": "markdown",
      "source": [
        "17. Describe the time complexity of accessing elements in a dictionary ?"
      ],
      "metadata": {
        "id": "Hg76ihfq8AdA"
      }
    },
    {
      "cell_type": "markdown",
      "source": [
        "    The time complexity of accessing elements (values) in a dictionary in  \n",
        "    Python is, on average, O(1), which is constant time.\n",
        "\n",
        "    Here's a breakdown of why:\n",
        "\n",
        "    Hash Tables: Python dictionaries are implemented using a data structure\n",
        "    called a hash table (or hash map).\n",
        "    Hashing: When you want to access a value using its key (e.g., my_dict\n",
        "    ['key']), Python first calculates the hash value of the key using a hash\n",
        "    function.\n",
        "    Direct Access: This hash value is then used to directly determine the index\n",
        "    (or \"bucket\") in the underlying array where the corresponding key-value  \n",
        "    pair is stored. In ideal scenarios, this lookup process takes a constant\n",
        "    amount of time, regardless of the size of the dictionary.\n",
        "\n",
        "    In summary:\n",
        "\n",
        "    Average Case: O(1) - Constant time. Accessing an element by its key is very fast on average.\n",
        "    Worst Case: O(n) - Linear time. Can occur with many hash collisions, but is less common in typical usage.\n",
        "    Therefore, for tasks that involve frequent lookups based on unique keys,\n",
        "    dictionaries offer a significant performance advantage over data structures\n",
        "    like lists, where accessing an element by value requires iterating through the list (O(n))."
      ],
      "metadata": {
        "id": "1gul8INR8Eah"
      }
    },
    {
      "cell_type": "markdown",
      "source": [
        "18.  In what situations are lists preferred over dictionaries ?"
      ],
      "metadata": {
        "id": "VatAW-Nx8fBr"
      }
    },
    {
      "cell_type": "markdown",
      "source": [
        "    Lists are preferred over dictionaries in Python for situations where:\n",
        "\n",
        "    Order Matters: The sequence of elements is significant. Lists maintain the\n",
        "    order in which elements are added. If you need to preserve the order of\n",
        "    items, a list is the appropriate choice. Dictionaries, before Python 3.7,\n",
        "    did not guarantee any order, and even after 3.7 (where insertion order is\n",
        "    preserved), their primary strength isn't the order but the key-based access.\n",
        "\n",
        "    Elements are Accessed Primarily by Index: When you frequently need to  \n",
        "    access elements based on their numerical position (index) rather than a                                                                        \n",
        "    specific key, lists provide direct and efficient access (O(1) by index).\n",
        "\n",
        "    You Need an Ordered Collection of Items, and Uniqueness is Not a Primary\n",
        "    Concern: If you need to store a collection of items where duplicates are\n",
        "    allowed and the order is important, a list is suitable. Sets, which enforce\n",
        "    uniqueness, would not be appropriate here.\n",
        "\n",
        "    The Data is a Simple Sequence Without Explicit Labels: If your data\n",
        "    naturally forms a sequence without the need for associating names or keys   with each element, a list is a more straightforward and often more     memory-efficient way to store it.\n",
        "\n",
        "    You Need to Perform Operations Based on Order: Many list-specific\n",
        "    operations, like slicing, sorting based on position, and reversing, rely on\n",
        "    the ordered nature of the elements.\n",
        "\n",
        "    When You Might Have Duplicate Values and Their Occurrences are Important:\n",
        "    Lists can store multiple occurrences of the same value, and the order of\n",
        "    these duplicates is maintained. If you need to track the number of times an item appears and its position, a list is better.\n",
        "\n",
        "    When You are Building a Sequence Incrementally and Order is Key: For\n",
        "    example, collecting results in a specific order as they are generated."
      ],
      "metadata": {
        "id": "rpz0Jj5u8se_"
      }
    },
    {
      "cell_type": "markdown",
      "source": [
        "19. Why are dictionaries considered unordered, and how does that affect data retrieval ?"
      ],
      "metadata": {
        "id": "R4bLHmgu9Eu3"
      }
    },
    {
      "cell_type": "markdown",
      "source": [
        "    Historically, dictionaries in Python (before version 3.7) were considered\n",
        "    unordered because they did not guarantee any specific order of items    \n",
        "    (key-value pairs). The order in which items were stored and retrieved was\n",
        "    generally arbitrary and could vary based on implementation details and the\n",
        "    order of insertions and deletions.\n",
        "\n",
        "    Why were they unordered?\n",
        "\n",
        "\n",
        "    This lack of guaranteed order stemmed from the underlying implementation of dictionaries using hash tables. Hash tables are designed for efficient       \n",
        "    key-based lookups, insertions, and deletions. To achieve this efficiency,  \n",
        "    they organize data based on the hash values of the keys, which doesn't\n",
        "    inherently preserve the order in which items were added. The primary goal\n",
        "    was fast access, not ordered storage.\n",
        "\n",
        "    How did this affect data retrieval (before Python 3.7)?\n",
        "\n",
        "    Unpredictable Iteration Order: When you iterated through a dictionary (e.   g., using a for loop), the order in which you received the key-value pairs  was not guaranteed to be the order of insertion, nor any other logical          \n",
        "    order (like alphabetical order of keys, unless explicitly sorted).\n",
        "    No Index-Based Access: Because there was no guaranteed order, you couldn't\n",
        "    reliably access elements by a numerical index like you could with lists.\n",
        "    Dictionaries are designed for access using keys.\n",
        "    Dependence on Implementation: The specific order you might observe in a\n",
        "    particular version of Python could change in different versions or even\n",
        "    different runs of the same program due to internal implementation details.  Relying on a specific order was considered bad practice and could lead to\n",
        "    unexpected behavior.\n"
      ],
      "metadata": {
        "id": "_QnWzdSg9JCv"
      }
    },
    {
      "cell_type": "markdown",
      "source": [
        "20. Explain the difference between a list and a dictionary in terms of data retrieval.\n"
      ],
      "metadata": {
        "id": "eb0GKoiE9uKk"
      }
    },
    {
      "cell_type": "markdown",
      "source": [
        "    The fundamental difference between a list and a dictionary in terms of data\n",
        "    retrieval lies in how you access the elements and the efficiency of that\n",
        "    access for different operations.\n",
        "\n",
        "    List:\n",
        "\n",
        "    Data Retrieval: Elements in a list are primarily accessed using their\n",
        "    numerical index (position). The indices start from 0 for the first element,\n",
        "    1 for the second, and so on.\n",
        "    Efficiency:\n",
        "    Accessing by index: This is very efficient, with a time complexity of O(1)\n",
        "    (constant time). You can directly jump to the memory location of the  \n",
        "    element at a specific index.\n",
        "    Accessing by value (searching): If you want to find an element based on its\n",
        "    value (e.g., checking if a specific name is in a list), you typically need\n",
        "    to iterate through the list, comparing each element until you find a match.\n",
        "    This has a time complexity of O(n) (linear time) in the worst case, where\n",
        "    'n' is the number of elements in the list.\n",
        "    Dictionary:\n",
        "\n",
        "    Data Retrieval: Elements (values) in a dictionary are accessed using their\n",
        "    unique keys. You provide the key associated with the value you want to retrieve.\n",
        "    Efficiency:\n",
        "    Accessing by key: This is very efficient, with an average-case time\n",
        "    complexity of O(1) (constant time). Dictionaries use a hash table\n",
        "    internally, allowing for direct lookup of the value based on the key's\n",
        "    hash.\n",
        "    Accessing by value (searching): If you want to find a key based on its  \n",
        "    value or check if a specific value exists in the dictionary, you would      typically need to iterate through all the values in the dictionary.   This      has a time complexity of O(n) (linear time).\n",
        "    Here's a table summarizing the key differences in data retrieval:\n",
        "\n",
        "    Feature\t                List\t                       Dictionary\n",
        "    Primary Access Method\tNumerical index (position)\t   Unique key\n",
        "    Access by Index\t     Efficient (O(1))\tNot directly supported (need keys)\n",
        "    Access by Key\t Not the primary method (requires knowing the index if you somehow map keys to indices)\t                Efficient (average O(1))\n",
        "    Access by Value             (Search)\t    Less efficient (O(n))\n",
        "\n",
        "    Less efficient (O(n) - requires iterating through values)\n",
        "\n"
      ],
      "metadata": {
        "id": "zOedLT769xEA"
      }
    },
    {
      "cell_type": "markdown",
      "source": [
        "Practical Questions :\n"
      ],
      "metadata": {
        "id": "mD832FfG-ogt"
      }
    },
    {
      "cell_type": "markdown",
      "source": [
        "1.  Write a code to create a string with your name and print it.\n",
        "\n"
      ],
      "metadata": {
        "id": "xPXrXaUE-qwx"
      }
    },
    {
      "cell_type": "code",
      "source": [
        "name = \"Rishabh Manglani\"\n",
        "print(name)"
      ],
      "metadata": {
        "colab": {
          "base_uri": "https://localhost:8080/"
        },
        "id": "9q13Z-e97yiZ",
        "outputId": "ccc34bd6-be81-429d-f8e1-2aae15bc9468"
      },
      "execution_count": 3,
      "outputs": [
        {
          "output_type": "stream",
          "name": "stdout",
          "text": [
            "Rishabh Manglani\n"
          ]
        }
      ]
    },
    {
      "cell_type": "markdown",
      "source": [
        "2. Write a code to find the length of the string \"Hello World\"."
      ],
      "metadata": {
        "id": "tjTZg5gB_PPc"
      }
    },
    {
      "cell_type": "code",
      "source": [
        "string = \"Hello World\"\n",
        "length = len(string)\n",
        "print(length)"
      ],
      "metadata": {
        "colab": {
          "base_uri": "https://localhost:8080/"
        },
        "id": "er-hrsRa_IU1",
        "outputId": "5f0a04e8-1bab-405f-b210-6532c1e2c412"
      },
      "execution_count": 7,
      "outputs": [
        {
          "output_type": "stream",
          "name": "stdout",
          "text": [
            "11\n"
          ]
        }
      ]
    },
    {
      "cell_type": "markdown",
      "source": [
        "3.  Write a code to slice the first 3 characters from the string \"Python Programming\"."
      ],
      "metadata": {
        "id": "l9fDuS6L_ZpJ"
      }
    },
    {
      "cell_type": "code",
      "source": [
        "string = \"Python Programming\"\n",
        "sliced_string = string[:3]\n",
        "print(sliced_string)"
      ],
      "metadata": {
        "colab": {
          "base_uri": "https://localhost:8080/"
        },
        "id": "KiJcTbVX_Ncy",
        "outputId": "c5cae7df-36f3-4433-cecc-1b794edad532"
      },
      "execution_count": 8,
      "outputs": [
        {
          "output_type": "stream",
          "name": "stdout",
          "text": [
            "Pyt\n"
          ]
        }
      ]
    },
    {
      "cell_type": "markdown",
      "source": [
        "4.  Write a code to convert the string \"hello\" to uppercase."
      ],
      "metadata": {
        "id": "VVsaWe1__nj7"
      }
    },
    {
      "cell_type": "code",
      "source": [
        "string = \"hello\"\n",
        "uppercase_string = string.upper()\n",
        "print(uppercase_string)"
      ],
      "metadata": {
        "colab": {
          "base_uri": "https://localhost:8080/"
        },
        "id": "AxG1Y0-V_mEj",
        "outputId": "79646290-6d23-4d46-ef71-c22128586bef"
      },
      "execution_count": 9,
      "outputs": [
        {
          "output_type": "stream",
          "name": "stdout",
          "text": [
            "HELLO\n"
          ]
        }
      ]
    },
    {
      "cell_type": "markdown",
      "source": [
        "5. Write a code to replace the word \"apple\" with \"orange\" in the string \"I like apple\"."
      ],
      "metadata": {
        "id": "GfGNPgfw_0Re"
      }
    },
    {
      "cell_type": "code",
      "source": [
        "string = \"I like apple\"\n",
        "replaced_string = string.replace(\"apple\", \"orange\")\n",
        "print(replaced_string)"
      ],
      "metadata": {
        "colab": {
          "base_uri": "https://localhost:8080/"
        },
        "id": "BCa9HoHm_zQc",
        "outputId": "1ce0bb08-58f5-471e-e8ba-e1a6e60ff89b"
      },
      "execution_count": 10,
      "outputs": [
        {
          "output_type": "stream",
          "name": "stdout",
          "text": [
            "I like orange\n"
          ]
        }
      ]
    },
    {
      "cell_type": "markdown",
      "source": [
        "6. Write a code to create a list with numbers 1 to 5 and print it."
      ],
      "metadata": {
        "id": "NcRHe1wR__yu"
      }
    },
    {
      "cell_type": "code",
      "source": [
        "numbers = [1, 2, 3, 4, 5]\n",
        "print(numbers)"
      ],
      "metadata": {
        "colab": {
          "base_uri": "https://localhost:8080/"
        },
        "id": "ttmUTEW2__CN",
        "outputId": "27b3fa96-2ec1-4754-bc5b-fee9b05155b4"
      },
      "execution_count": 11,
      "outputs": [
        {
          "output_type": "stream",
          "name": "stdout",
          "text": [
            "[1, 2, 3, 4, 5]\n"
          ]
        }
      ]
    },
    {
      "cell_type": "markdown",
      "source": [
        "7.Write a code to append the number 10 to the list [1, 2, 3, 4]."
      ],
      "metadata": {
        "id": "XtSmc0doAJGj"
      }
    },
    {
      "cell_type": "code",
      "source": [
        "numbers = [1, 2, 3, 4]\n",
        "numbers.append(10)\n",
        "print(numbers)"
      ],
      "metadata": {
        "colab": {
          "base_uri": "https://localhost:8080/"
        },
        "id": "kWIPQl4xAHKR",
        "outputId": "fe3a2bbc-2230-487a-c7f9-28f9c62142e7"
      },
      "execution_count": 12,
      "outputs": [
        {
          "output_type": "stream",
          "name": "stdout",
          "text": [
            "[1, 2, 3, 4, 10]\n"
          ]
        }
      ]
    },
    {
      "cell_type": "markdown",
      "source": [
        "8. Write a code to remove the number 3 from the list [1, 2, 3, 4, 5]."
      ],
      "metadata": {
        "id": "dvrBoA9iASQ5"
      }
    },
    {
      "cell_type": "code",
      "source": [
        "numbers = [1, 2, 3, 4, 5]\n",
        "numbers.remove(3)\n",
        "print(numbers)"
      ],
      "metadata": {
        "colab": {
          "base_uri": "https://localhost:8080/"
        },
        "id": "CnBMPLwLARBF",
        "outputId": "18d30863-6598-4001-8d65-9f41e37816fa"
      },
      "execution_count": 13,
      "outputs": [
        {
          "output_type": "stream",
          "name": "stdout",
          "text": [
            "[1, 2, 4, 5]\n"
          ]
        }
      ]
    },
    {
      "cell_type": "markdown",
      "source": [
        "9. Write a code to access the second element in the list ['a', 'b', 'c', 'd']."
      ],
      "metadata": {
        "id": "uAINcAnkAa8x"
      }
    },
    {
      "cell_type": "code",
      "source": [
        "elements = ['a', 'b', 'c', 'd']\n",
        "second_element = elements[1]\n",
        "print(second_element)\n",
        "#"
      ],
      "metadata": {
        "colab": {
          "base_uri": "https://localhost:8080/"
        },
        "id": "Pp3PlEM9AZ5P",
        "outputId": "d86c9a56-676c-4f49-9463-b356ac756050"
      },
      "execution_count": 14,
      "outputs": [
        {
          "output_type": "stream",
          "name": "stdout",
          "text": [
            "b\n"
          ]
        }
      ]
    },
    {
      "cell_type": "markdown",
      "source": [
        "10.P Write a code to reverse the list [10, 20, 30, 40, 50]."
      ],
      "metadata": {
        "id": "87BqJF7fAnrz"
      }
    },
    {
      "cell_type": "code",
      "source": [
        "numbers = [10, 20, 30, 40, 50]\n",
        "reversed_numbers = numbers[::-1]\n",
        "print(reversed_numbers)"
      ],
      "metadata": {
        "colab": {
          "base_uri": "https://localhost:8080/"
        },
        "id": "EfkcFzp6Aknl",
        "outputId": "8fb1531c-5cd2-4a95-80ad-0ad2e1bcff75"
      },
      "execution_count": 15,
      "outputs": [
        {
          "output_type": "stream",
          "name": "stdout",
          "text": [
            "[50, 40, 30, 20, 10]\n"
          ]
        }
      ]
    },
    {
      "cell_type": "markdown",
      "source": [
        "11.  Write a code to create a tuple with the elements 100, 200, 300 and print it."
      ],
      "metadata": {
        "id": "c93pKMV8Av_L"
      }
    },
    {
      "cell_type": "code",
      "source": [
        "my_tuple = (100, 200, 300)\n",
        "print(my_tuple)"
      ],
      "metadata": {
        "colab": {
          "base_uri": "https://localhost:8080/"
        },
        "id": "oUQJpuTJAvF8",
        "outputId": "e02995e7-13b7-4292-8829-ec5bb3a55293"
      },
      "execution_count": 16,
      "outputs": [
        {
          "output_type": "stream",
          "name": "stdout",
          "text": [
            "(100, 200, 300)\n"
          ]
        }
      ]
    },
    {
      "cell_type": "markdown",
      "source": [
        "12. Write a code to access the second-to-last element of the tuple ('red', 'green', 'blue', 'yellow')."
      ],
      "metadata": {
        "id": "GkpOu3yfA46h"
      }
    },
    {
      "cell_type": "code",
      "source": [
        "colors = ('red', 'green', 'blue', 'yellow')\n",
        "second_to_last_element = colors[-2]\n",
        "print(second_to_last_element)"
      ],
      "metadata": {
        "colab": {
          "base_uri": "https://localhost:8080/"
        },
        "id": "J7tCVsqFA3zb",
        "outputId": "ce105421-78f9-4ddd-f15f-7a5ef51f7053"
      },
      "execution_count": 19,
      "outputs": [
        {
          "output_type": "stream",
          "name": "stdout",
          "text": [
            "blue\n"
          ]
        }
      ]
    },
    {
      "cell_type": "markdown",
      "source": [
        "13.  Write a code to find the minimum number in the tuple (10, 20, 5, 15)."
      ],
      "metadata": {
        "id": "JqmBnUz9BKIx"
      }
    },
    {
      "cell_type": "code",
      "source": [
        "numbers = (10, 20, 5, 15)\n",
        "minimum_number = min(numbers)\n",
        "print(minimum_number)\n",
        "#"
      ],
      "metadata": {
        "colab": {
          "base_uri": "https://localhost:8080/"
        },
        "id": "J7Dtn6eWBFKM",
        "outputId": "317c685f-8777-4e8e-b23f-a53f39bc824b"
      },
      "execution_count": 20,
      "outputs": [
        {
          "output_type": "stream",
          "name": "stdout",
          "text": [
            "5\n"
          ]
        }
      ]
    },
    {
      "cell_type": "markdown",
      "source": [
        "14.  Write a code to find the index of the element \"cat\" in the tuple ('dog', 'cat', 'rabbit')."
      ],
      "metadata": {
        "id": "S8Ou2Bu5BSAQ"
      }
    },
    {
      "cell_type": "code",
      "source": [
        "animals = ('dog', 'cat', 'rabbit')\n",
        "index_of_cat = animals.index('cat')\n",
        "print(index_of_cat)"
      ],
      "metadata": {
        "colab": {
          "base_uri": "https://localhost:8080/"
        },
        "id": "Cpe9qfvpBRE-",
        "outputId": "3677f615-435e-4c42-8bee-3ef8f455e6de"
      },
      "execution_count": 21,
      "outputs": [
        {
          "output_type": "stream",
          "name": "stdout",
          "text": [
            "1\n"
          ]
        }
      ]
    },
    {
      "cell_type": "markdown",
      "source": [
        "15. . Write a code to create a tuple containing three different fruits and check if \"kiwi\" is in it"
      ],
      "metadata": {
        "id": "XDPov5VuBZE8"
      }
    },
    {
      "cell_type": "code",
      "source": [
        "# Create a tuple containing three different fruits\n",
        "fruits = ('apple', 'banana', 'cherry')\n",
        "\n",
        "# Check if \"kiwi\" is in the tuple\n",
        "if 'kiwi' in fruits:\n",
        "    print(\"kiwi is in the tuple\")\n",
        "else:\n",
        "    print(\"kiwi is not in the tuple\")"
      ],
      "metadata": {
        "colab": {
          "base_uri": "https://localhost:8080/"
        },
        "id": "OHf79Ik1BYMm",
        "outputId": "e38b2849-d273-4514-be03-c49f6022cf44"
      },
      "execution_count": 23,
      "outputs": [
        {
          "output_type": "stream",
          "name": "stdout",
          "text": [
            "kiwi is not in the tuple\n"
          ]
        }
      ]
    },
    {
      "cell_type": "markdown",
      "source": [
        "16.  Write a code to create a set with the elements 'a', 'b', 'c' and print it.\n"
      ],
      "metadata": {
        "id": "sZV3n5mOBnTL"
      }
    },
    {
      "cell_type": "code",
      "source": [
        "my_set = {'a', 'b', 'c'}\n",
        "print(my_set)"
      ],
      "metadata": {
        "colab": {
          "base_uri": "https://localhost:8080/"
        },
        "id": "Fv-4gZkMBfiu",
        "outputId": "e02b5296-b6a7-48c2-83d8-a0eb9c8f6314"
      },
      "execution_count": 24,
      "outputs": [
        {
          "output_type": "stream",
          "name": "stdout",
          "text": [
            "{'a', 'c', 'b'}\n"
          ]
        }
      ]
    },
    {
      "cell_type": "markdown",
      "source": [
        "17.  Write a code to clear all elements from the set {1, 2, 3, 4, 5}."
      ],
      "metadata": {
        "id": "HYYMER0EByKy"
      }
    },
    {
      "cell_type": "code",
      "source": [
        "my_set = {1, 2, 3, 4, 5}\n",
        "my_set.clear()\n",
        "print(my_set)"
      ],
      "metadata": {
        "colab": {
          "base_uri": "https://localhost:8080/"
        },
        "id": "SqtpoDbmBusK",
        "outputId": "568794c1-1438-457d-9373-61952f9376cf"
      },
      "execution_count": 25,
      "outputs": [
        {
          "output_type": "stream",
          "name": "stdout",
          "text": [
            "set()\n"
          ]
        }
      ]
    },
    {
      "cell_type": "markdown",
      "source": [
        "18.  Write a code to remove the element 4 from the set {1, 2, 3, 4}."
      ],
      "metadata": {
        "id": "Lt5X6TJYB9cU"
      }
    },
    {
      "cell_type": "code",
      "source": [
        "my_set = {1, 2, 3, 4}\n",
        "my_set.remove(4)\n",
        "print(my_set)"
      ],
      "metadata": {
        "colab": {
          "base_uri": "https://localhost:8080/"
        },
        "id": "zeI5BrpqB5RP",
        "outputId": "9681b542-5959-485a-ebab-8936cc8c7700"
      },
      "execution_count": 27,
      "outputs": [
        {
          "output_type": "stream",
          "name": "stdout",
          "text": [
            "{1, 2, 3}\n"
          ]
        }
      ]
    },
    {
      "cell_type": "markdown",
      "source": [
        "19.  Write a code to find the union of two sets {1, 2, 3} and {3, 4, 5}."
      ],
      "metadata": {
        "id": "dDoEV-VQCDiF"
      }
    },
    {
      "cell_type": "code",
      "source": [
        "set1 = {1, 2, 3}\n",
        "set2 = {3, 4, 5}\n",
        "\n",
        "union_set = set1.union(set2)\n",
        "print(union_set)"
      ],
      "metadata": {
        "colab": {
          "base_uri": "https://localhost:8080/"
        },
        "id": "JBIKIHxtB7w-",
        "outputId": "88839ef5-6905-4dcf-ecfd-6f4e18af021d"
      },
      "execution_count": 29,
      "outputs": [
        {
          "output_type": "stream",
          "name": "stdout",
          "text": [
            "{1, 2, 3, 4, 5}\n"
          ]
        }
      ]
    },
    {
      "cell_type": "markdown",
      "source": [
        "20. Write a code to find the intersection of two sets {1, 2, 3} and {2, 3, 4}."
      ],
      "metadata": {
        "id": "MzhtAFdACXkc"
      }
    },
    {
      "cell_type": "code",
      "source": [
        "set1 = {1, 2, 3}\n",
        "set2 = {2, 3, 4}\n",
        "\n",
        "intersection_set = set1.intersection(set2)\n",
        "print(intersection_set)"
      ],
      "metadata": {
        "colab": {
          "base_uri": "https://localhost:8080/"
        },
        "id": "BqoOgxMnCOUO",
        "outputId": "5123458d-7ddd-4464-c477-eb547404f6c3"
      },
      "execution_count": 30,
      "outputs": [
        {
          "output_type": "stream",
          "name": "stdout",
          "text": [
            "{2, 3}\n"
          ]
        }
      ]
    },
    {
      "cell_type": "markdown",
      "source": [
        "21.  Write a code to create a dictionary with the keys \"name\", \"age\", and \"city\", and print it."
      ],
      "metadata": {
        "id": "13mBAMiPCfgN"
      }
    },
    {
      "cell_type": "code",
      "source": [
        "# Create a dictionary with the keys \"name\", \"age\", and \"city\"\n",
        "person = {\n",
        "    \"name\": \"John\",\n",
        "    \"age\": 30,\n",
        "    \"city\": \"New York\"\n",
        "}\n",
        "\n",
        "# Print the dictionary\n",
        "print(person)"
      ],
      "metadata": {
        "colab": {
          "base_uri": "https://localhost:8080/"
        },
        "id": "fF2AIJc3Cdse",
        "outputId": "54f9c336-58fc-4d4a-bbad-82260a6396ea"
      },
      "execution_count": 31,
      "outputs": [
        {
          "output_type": "stream",
          "name": "stdout",
          "text": [
            "{'name': 'John', 'age': 30, 'city': 'New York'}\n"
          ]
        }
      ]
    },
    {
      "cell_type": "markdown",
      "source": [
        "22.  Write a code to add a new key-value pair \"country\": \"USA\" to the dictionary {'name': 'John', 'age': 25}."
      ],
      "metadata": {
        "id": "66z6F-7UCmHI"
      }
    },
    {
      "cell_type": "code",
      "source": [
        "# Original dictionary\n",
        "person = {'name': 'John', 'age': 25}\n",
        "\n",
        "# Add new key-value pair\n",
        "person['country'] = 'USA'\n",
        "\n",
        "# Print the updated dictionary\n",
        "print(person)"
      ],
      "metadata": {
        "colab": {
          "base_uri": "https://localhost:8080/"
        },
        "id": "EOVflVZDClRz",
        "outputId": "1accdc27-b080-4dc7-849c-b53f5b39e39f"
      },
      "execution_count": 32,
      "outputs": [
        {
          "output_type": "stream",
          "name": "stdout",
          "text": [
            "{'name': 'John', 'age': 25, 'country': 'USA'}\n"
          ]
        }
      ]
    },
    {
      "cell_type": "markdown",
      "source": [
        "23. Write a code to access the value associated with the key \"name\" in the dictionary {'name': 'Alice', 'age': 30}."
      ],
      "metadata": {
        "id": "cjQKGyS0CthW"
      }
    },
    {
      "cell_type": "code",
      "source": [
        "# Dictionary\n",
        "person = {'name': 'Alice', 'age': 30}\n",
        "# Access the value associated with the key \"name\"\n",
        "name_value = person['name']\n",
        "\n",
        "# Print the value\n",
        "print(name_value)"
      ],
      "metadata": {
        "colab": {
          "base_uri": "https://localhost:8080/"
        },
        "id": "HDJ59CNbCr1y",
        "outputId": "46b3a14d-30c8-4032-ac1c-86453c75e30f"
      },
      "execution_count": 35,
      "outputs": [
        {
          "output_type": "stream",
          "name": "stdout",
          "text": [
            "Alice\n"
          ]
        }
      ]
    },
    {
      "cell_type": "markdown",
      "source": [
        "24. Write a code to remove the key \"age\" from the dictionary {'name': 'Bob', 'age': 22, 'city': 'New York'}."
      ],
      "metadata": {
        "id": "cTffTF_3C7KA"
      }
    },
    {
      "cell_type": "code",
      "source": [
        "# Original dictionary\n",
        "person = {'name': 'Bob', 'age': 22, 'city': 'New York'}\n",
        "\n",
        "# Remove the key \"age\"\n",
        "person.pop('age')\n",
        "\n",
        "# Print ▋"
      ],
      "metadata": {
        "colab": {
          "base_uri": "https://localhost:8080/"
        },
        "id": "_tBgDJKUC0Ur",
        "outputId": "2c9c2107-76e1-4154-b248-b7f1fce47435"
      },
      "execution_count": 36,
      "outputs": [
        {
          "output_type": "execute_result",
          "data": {
            "text/plain": [
              "22"
            ]
          },
          "metadata": {},
          "execution_count": 36
        }
      ]
    },
    {
      "cell_type": "markdown",
      "source": [
        "25. Write a code to check if the key \"city\" exists in the dictionary {'name': 'Alice', 'city': 'Paris'}."
      ],
      "metadata": {
        "id": "kcQal2snDE-H"
      }
    },
    {
      "cell_type": "code",
      "source": [
        "# Dictionary\n",
        "person = {'name': 'Alice', 'city': 'Paris'}\n",
        "\n",
        "# Check if the key \"city\" exists in the dictionary\n",
        "key_exists = 'city' in person\n",
        "\n",
        "# Print the result\n",
        "print(key_exists)"
      ],
      "metadata": {
        "colab": {
          "base_uri": "https://localhost:8080/"
        },
        "id": "S0FLWP88DEGT",
        "outputId": "bcf31bce-20f5-4b8f-d58d-ca830be6c528"
      },
      "execution_count": 37,
      "outputs": [
        {
          "output_type": "stream",
          "name": "stdout",
          "text": [
            "True\n"
          ]
        }
      ]
    },
    {
      "cell_type": "markdown",
      "source": [
        "26.  Write a code to create a list, a tuple, and a dictionary, and print them all."
      ],
      "metadata": {
        "id": "g4uF0vnxDMJ1"
      }
    },
    {
      "cell_type": "code",
      "source": [
        "# Create a list\n",
        "my_list = [1, 2, 3, 4, 5]\n",
        "\n",
        "# Create a tuple\n",
        "my_tuple = (1, 2, 3, 4, 5)\n",
        "\n",
        "# Create a dictionary\n",
        "my_dict = {\"name\": \"Alice\", \"age\": 30, \"city\": \"New York\"}\n",
        "\n",
        "# Print the list, tuple, and dictionary\n",
        "print(\"List:\", my_list)\n",
        "print(\"Tuple:\", my_tuple)\n",
        "print(\"Dictionary:\", my_dict)"
      ],
      "metadata": {
        "colab": {
          "base_uri": "https://localhost:8080/"
        },
        "id": "euYU_IBsDLV1",
        "outputId": "47479720-43f5-4d0b-9458-44ad0d072abf"
      },
      "execution_count": 38,
      "outputs": [
        {
          "output_type": "stream",
          "name": "stdout",
          "text": [
            "List: [1, 2, 3, 4, 5]\n",
            "Tuple: (1, 2, 3, 4, 5)\n",
            "Dictionary: {'name': 'Alice', 'age': 30, 'city': 'New York'}\n"
          ]
        }
      ]
    },
    {
      "cell_type": "markdown",
      "source": [
        "27. Write a code to create a list of 5 random numbers between 1 and 100, sort it in ascending order, and print the\n",
        "result.(replaced)\n",
        "\n"
      ],
      "metadata": {
        "id": "k652V-zBDRrh"
      }
    },
    {
      "cell_type": "code",
      "source": [
        "import random\n",
        "import random\n",
        "\n",
        "# Create a list of 5 random numbers between 1 and 100\n",
        "random_numbers = []\n",
        "for i in range(5):\n",
        "    random_numbers.append(random.randint(1, 100))"
      ],
      "metadata": {
        "id": "wMbGFKYwDQ_G"
      },
      "execution_count": 41,
      "outputs": []
    },
    {
      "cell_type": "markdown",
      "source": [
        "28.  Write a code to create a list with strings and print the element at the third index."
      ],
      "metadata": {
        "id": "n8qEgebnDm9n"
      }
    },
    {
      "cell_type": "code",
      "source": [
        "# Create a list with strings\n",
        "my_list = [\"apple\", \"banana\", \"cherry\", \"date\", \"elderberry\"]\n",
        "\n",
        "# Print the element at the third index\n",
        "print(my_list[3])"
      ],
      "metadata": {
        "colab": {
          "base_uri": "https://localhost:8080/"
        },
        "id": "p7t2o4n8DYUo",
        "outputId": "9cd5993f-e1b7-451a-9875-cca71fc951a0"
      },
      "execution_count": 42,
      "outputs": [
        {
          "output_type": "stream",
          "name": "stdout",
          "text": [
            "date\n"
          ]
        }
      ]
    },
    {
      "cell_type": "markdown",
      "source": [
        "29.  Write a code to combine two dictionaries into one and print the result."
      ],
      "metadata": {
        "id": "ooO8c9aGDt5O"
      }
    },
    {
      "cell_type": "code",
      "source": [
        "# Create two dictionaries\n",
        "dict1 = {'name': 'Alice', 'age': 30}\n",
        "dict2 = {'city': 'New York', 'country': 'USA'}\n",
        "\n",
        "# Combine the dictionaries into one\n",
        "combined_dict = {**dict1, **dict2}\n",
        "\n",
        "# Print the combined dictionary\n",
        "print(combined_dict)"
      ],
      "metadata": {
        "colab": {
          "base_uri": "https://localhost:8080/"
        },
        "id": "RHbv85-jDtCd",
        "outputId": "b4eef7b1-acc7-4f54-b12e-0b91bc397ae4"
      },
      "execution_count": 43,
      "outputs": [
        {
          "output_type": "stream",
          "name": "stdout",
          "text": [
            "{'name': 'Alice', 'age': 30, 'city': 'New York', 'country': 'USA'}\n"
          ]
        }
      ]
    },
    {
      "cell_type": "markdown",
      "source": [
        "30.  Write a code to convert a list of strings into a set."
      ],
      "metadata": {
        "id": "9K22-wzSDz0_"
      }
    },
    {
      "cell_type": "code",
      "source": [
        "# Create a list of strings\n",
        "my_list = [\"apple\", \"banana\", \"cherry\", \"apple\", \"banana\"]\n",
        "\n",
        "# Convert the list into a set\n",
        "my_set = set(my_list)\n",
        "\n",
        "# Print the set\n",
        "print(my_set)"
      ],
      "metadata": {
        "colab": {
          "base_uri": "https://localhost:8080/"
        },
        "id": "J2o4_VMLDzJ0",
        "outputId": "cfd58eb1-51ee-462c-e769-af5b6ad09d3b"
      },
      "execution_count": 44,
      "outputs": [
        {
          "output_type": "stream",
          "name": "stdout",
          "text": [
            "{'apple', 'cherry', 'banana'}\n"
          ]
        }
      ]
    },
    {
      "cell_type": "code",
      "source": [],
      "metadata": {
        "id": "NWfDnzSDD4n7"
      },
      "execution_count": null,
      "outputs": []
    }
  ]
}